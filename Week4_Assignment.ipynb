{
  "cells": [
    {
      "cell_type": "markdown",
      "metadata": {
        "id": "view-in-github",
        "colab_type": "text"
      },
      "source": [
        "<a href=\"https://colab.research.google.com/github/AnimeshPandey123/AI-assesment/blob/main/Week4_Assignment.ipynb\" target=\"_parent\"><img src=\"https://colab.research.google.com/assets/colab-badge.svg\" alt=\"Open In Colab\"/></a>"
      ]
    },
    {
      "cell_type": "markdown",
      "id": "de2859e4",
      "metadata": {
        "id": "de2859e4"
      },
      "source": [
        "[![Open In Colab](https://colab.research.google.com/assets/colab-badge.svg)](https://colab.research.google.com/github/mouryarahul/7CS107_PracticalWorks_Assignment/blob/master/Week4_Assignment.ipynb)"
      ]
    },
    {
      "cell_type": "markdown",
      "metadata": {
        "id": "Yviony1K1_n4"
      },
      "source": [
        "# 7CS107 – Week 4 Programming Assignment (100 marks)\n",
        "\n",
        "**Topic:** ML Fundamentals – Linear Models, ERM, MLE/MAP, Regularization, Polynomial Features, Weighted Least Squares.\n",
        "\n",
        "Allowed: numpy, scipy, sklearn. Edit only `# TODO` blocks. Run tests after each question."
      ],
      "id": "Yviony1K1_n4"
    },
    {
      "cell_type": "code",
      "execution_count": 1,
      "metadata": {
        "id": "VxHwlYUI1_n4",
        "outputId": "9b77cc73-addc-4621-9537-15d99a12195a",
        "colab": {
          "base_uri": "https://localhost:8080/"
        }
      },
      "outputs": [
        {
          "output_type": "stream",
          "name": "stdout",
          "text": [
            "Imports OK. NumPy: 2.0.2\n"
          ]
        }
      ],
      "source": [
        "import numpy as np\n",
        "from numpy.linalg import inv, lstsq\n",
        "from scipy import stats\n",
        "from sklearn.linear_model import LinearRegression, Ridge\n",
        "from sklearn.preprocessing import PolynomialFeatures\n",
        "from sklearn.metrics import mean_squared_error\n",
        "from sklearn.model_selection import train_test_split\n",
        "\n",
        "np.random.seed(7)\n",
        "print('Imports OK. NumPy:', np.__version__)\n"
      ],
      "id": "VxHwlYUI1_n4"
    },
    {
      "cell_type": "markdown",
      "metadata": {
        "id": "za28P9KJ1_n5"
      },
      "source": [
        "## Synthetic dataset\n",
        "One synthetic regression dataset with an intercept included."
      ],
      "id": "za28P9KJ1_n5"
    },
    {
      "cell_type": "code",
      "execution_count": 2,
      "metadata": {
        "id": "xJAgXnLO1_n5",
        "outputId": "5f6dc92c-8b08-4f82-84c5-ff49825afe24",
        "colab": {
          "base_uri": "https://localhost:8080/"
        }
      },
      "outputs": [
        {
          "output_type": "stream",
          "name": "stdout",
          "text": [
            "Shapes: (300, 6) (300,)\n"
          ]
        }
      ],
      "source": [
        "n, d = 300, 5\n",
        "X_raw = np.random.randn(n, d)\n",
        "true_w = np.array([2.0, -1.5, 0.0, 3.0, 0.5, -2.0])\n",
        "X = np.c_[np.ones((n,1)), X_raw]\n",
        "sigma = 0.8\n",
        "noise = np.random.randn(n) * sigma\n",
        "y = X @ true_w + noise\n",
        "print('Shapes:', X.shape, y.shape)\n"
      ],
      "id": "xJAgXnLO1_n5"
    },
    {
      "cell_type": "markdown",
      "metadata": {
        "id": "grX-mPJX1_n5"
      },
      "source": [
        "---\n",
        "### Q1 (10 marks): Empirical Risk via Train/Test Split\n",
        "Implement `erm_split_mse(X, y, test_size, random_state)` using `train_test_split`, `LinearRegression`, and `mean_squared_error` functions available in sk-learn package. Return `(mse_train, mse_test)`."
      ],
      "id": "grX-mPJX1_n5"
    },
    {
      "cell_type": "code",
      "execution_count": 3,
      "metadata": {
        "id": "-4kdP3gU1_n6"
      },
      "outputs": [],
      "source": [
        "def erm_split_mse(X, y, test_size=0.25, random_state=42):\n",
        "    \"\"\"Return (mse_train, mse_test) using LinearRegression on a train/test split.\n",
        "    \"\"\"\n",
        "    # TODO: split, fit, predict, compute MSEs\n",
        "    # raise NotImplementedError()\n",
        "    X_train, X_test, y_train, y_test = train_test_split(\n",
        "        X, y, test_size=test_size, random_state=random_state\n",
        "    )\n",
        "\n",
        "    # Train model\n",
        "    model = LinearRegression()\n",
        "    model.fit(X_train, y_train)\n",
        "\n",
        "    # Predict\n",
        "    y_pred_train = model.predict(X_train)\n",
        "    y_pred_test = model.predict(X_test)\n",
        "\n",
        "    # Compute MSE\n",
        "    mse_train = mean_squared_error(y_train, y_pred_train)\n",
        "    mse_test = mean_squared_error(y_test, y_pred_test)\n",
        "    return mse_train, mse_test\n",
        "\n"
      ],
      "id": "-4kdP3gU1_n6"
    },
    {
      "cell_type": "code",
      "execution_count": 4,
      "metadata": {
        "id": "eXbGD2BW1_n6",
        "outputId": "332c54e0-806a-481d-e59c-5a32e00e2400",
        "colab": {
          "base_uri": "https://localhost:8080/"
        }
      },
      "outputs": [
        {
          "output_type": "stream",
          "name": "stdout",
          "text": [
            "Q1 passed.\n"
          ]
        }
      ],
      "source": [
        "# Tests for Q1\n",
        "try:\n",
        "    mse_tr, mse_te = erm_split_mse(X, y, test_size=0.2, random_state=0)\n",
        "except NotImplementedError:\n",
        "    print('Q1 not implemented yet.')\n",
        "else:\n",
        "    assert isinstance(mse_tr, float) and isinstance(mse_te, float)\n",
        "    assert 0 <= mse_tr < 10 and 0 <= mse_te < 15\n",
        "    print('Q1 passed.')\n"
      ],
      "id": "eXbGD2BW1_n6"
    },
    {
      "cell_type": "markdown",
      "metadata": {
        "id": "25jI4BIh1_n6"
      },
      "source": [
        "---\n",
        "### Q2 (15 marks): Model Capacity with Polynomial Features\n",
        "Implement `poly_model_selection(X_raw, y, degrees)` with `PolynomialFeatures(include_bias=True)`, 80/20 split (`random_state=0`), and `LinearRegression`. Return `(train_mse_list, test_mse_list, best_degree)` minimizing test MSE."
      ],
      "id": "25jI4BIh1_n6"
    },
    {
      "cell_type": "code",
      "execution_count": 5,
      "metadata": {
        "id": "xEi8T9lJ1_n6"
      },
      "outputs": [],
      "source": [
        "def poly_model_selection(X_raw, y, degrees=(1,2,3,4,5)):\n",
        "    \"\"\"Return (train_mse_list, test_mse_list, best_degree).\n",
        "    \"\"\"\n",
        "    # TODO\n",
        "    X_train, X_test, y_train, y_test = train_test_split(X_raw, y, test_size=0.2, random_state=0)\n",
        "\n",
        "    train_mse_list = []\n",
        "    test_mse_list = []\n",
        "\n",
        "    for d in degrees:\n",
        "        # Create polynomial features\n",
        "        poly = PolynomialFeatures(degree=d, include_bias=True)\n",
        "        X_train_poly = poly.fit_transform(X_train)\n",
        "        X_test_poly = poly.transform(X_test)\n",
        "\n",
        "        # Fit linear regression\n",
        "        model = LinearRegression()\n",
        "        model.fit(X_train_poly, y_train)\n",
        "\n",
        "        # Compute MSE\n",
        "        y_train_pred = model.predict(X_train_poly)\n",
        "        y_test_pred = model.predict(X_test_poly)\n",
        "        train_mse = mean_squared_error(y_train, y_train_pred)\n",
        "        test_mse = mean_squared_error(y_test, y_test_pred)\n",
        "\n",
        "        train_mse_list.append(train_mse)\n",
        "        test_mse_list.append(test_mse)\n",
        "\n",
        "    # Select degree with lowest test MSE\n",
        "    best_degree = degrees[np.argmin(test_mse_list)]\n",
        "\n",
        "    return train_mse_list, test_mse_list, best_degree\n"
      ],
      "id": "xEi8T9lJ1_n6"
    },
    {
      "cell_type": "code",
      "execution_count": 6,
      "metadata": {
        "id": "94LuFsiJ1_n6",
        "outputId": "41f1a84c-d4bc-4f34-abbb-00f99edb7952",
        "colab": {
          "base_uri": "https://localhost:8080/"
        }
      },
      "outputs": [
        {
          "output_type": "stream",
          "name": "stdout",
          "text": [
            "Q2 passed. Best degree: 2\n"
          ]
        }
      ],
      "source": [
        "# Tests for Q2\n",
        "try:\n",
        "    tr_mse, te_mse, best_deg = poly_model_selection(X_raw, y, degrees=(1,2,3,4,5))\n",
        "except NotImplementedError:\n",
        "    print('Q2 not implemented yet.')\n",
        "else:\n",
        "    tr_mse = np.asarray(tr_mse); te_mse = np.asarray(te_mse)\n",
        "    assert tr_mse.shape == (5,) and te_mse.shape == (5,)\n",
        "    assert all(m > 0 for m in tr_mse) and all(m > 0 for m in te_mse)\n",
        "    assert best_deg in (1,2,3,4,5)\n",
        "    print('Q2 passed. Best degree:', best_deg)\n"
      ],
      "id": "94LuFsiJ1_n6"
    },
    {
      "cell_type": "markdown",
      "metadata": {
        "id": "9pjbMLYX1_n6"
      },
      "source": [
        "---\n",
        "### Q3 (15 marks): Closed-form Ordinary Least-Square (Normal Equations)\n",
        "Implement `ols_fit(X, y)` using `np.linalg.lstsq` (or equivalent). Return `w` of shape `(n_features,)`."
      ],
      "id": "9pjbMLYX1_n6"
    },
    {
      "cell_type": "code",
      "execution_count": 7,
      "metadata": {
        "id": "56onrK-X1_n6"
      },
      "outputs": [],
      "source": [
        "def ols_fit(X, y):\n",
        "    \"\"\"Return OLS solution w (shape: (n_features,)).\n",
        "    \"\"\"\n",
        "    # TODO\n",
        "    w, residuals, rank, s = np.linalg.lstsq(X, y, rcond=None)\n",
        "\n",
        "    return w\n"
      ],
      "id": "56onrK-X1_n6"
    },
    {
      "cell_type": "code",
      "execution_count": 8,
      "metadata": {
        "id": "DTs-hQyp1_n6",
        "outputId": "f5a2ef55-e5a8-44f4-bd94-c6f801ea5938",
        "colab": {
          "base_uri": "https://localhost:8080/"
        }
      },
      "outputs": [
        {
          "output_type": "stream",
          "name": "stdout",
          "text": [
            "Q3 passed.\n"
          ]
        }
      ],
      "source": [
        "# Tests for Q3\n",
        "try:\n",
        "    w_hat = ols_fit(X, y)\n",
        "except NotImplementedError:\n",
        "    print('Q3 not implemented yet.')\n",
        "else:\n",
        "    assert w_hat.shape == (X.shape[1],)\n",
        "    lr = LinearRegression(fit_intercept=False).fit(X, y)\n",
        "    w_sk = lr.coef_\n",
        "    assert np.allclose(w_hat, w_sk, atol=1e-6)\n",
        "    print('Q3 passed.')\n"
      ],
      "id": "DTs-hQyp1_n6"
    },
    {
      "cell_type": "markdown",
      "metadata": {
        "id": "gn_vbl1D1_n7"
      },
      "source": [
        "---\n",
        "### Q4 (15 marks): Closed-form Ridge Regression\n",
        "Implement `ridge_fit(X, y, lam)` returning $(X^T X + \\lambda I)^{-1} X^T y$ without penalizing the intercept (first coefficient)."
      ],
      "id": "gn_vbl1D1_n7"
    },
    {
      "cell_type": "code",
      "execution_count": 9,
      "metadata": {
        "id": "7QmiB0U11_n7"
      },
      "outputs": [],
      "source": [
        "def ridge_fit(X, y, lam=1.0):\n",
        "    \"\"\"Return ridge solution with no penalty on intercept (index 0).\n",
        "    \"\"\"\n",
        "    # TODO\n",
        "    n_features = X.shape[1]\n",
        "\n",
        "    # Identity matrix for regularization\n",
        "    I = np.eye(n_features)\n",
        "\n",
        "    # Do not penalize intercept (first coefficient)\n",
        "    I[0, 0] = 0\n",
        "\n",
        "    # Closed-form solution\n",
        "    w = np.linalg.inv(X.T @ X + lam * I) @ X.T @ y\n",
        "\n",
        "    return w\n"
      ],
      "id": "7QmiB0U11_n7"
    },
    {
      "cell_type": "code",
      "execution_count": 10,
      "metadata": {
        "id": "A1-NxDs51_n7",
        "outputId": "29e11ce1-0f95-4e34-e63b-ee00f5a4e83e",
        "colab": {
          "base_uri": "https://localhost:8080/"
        }
      },
      "outputs": [
        {
          "output_type": "stream",
          "name": "stdout",
          "text": [
            "Q4 passed.\n"
          ]
        }
      ],
      "source": [
        "# Tests for Q4\n",
        "try:\n",
        "    w_ridge = ridge_fit(X, y, lam=1.25)\n",
        "except NotImplementedError:\n",
        "    print('Q4 not implemented yet.')\n",
        "else:\n",
        "    d = X.shape[1]\n",
        "    I = np.eye(d); I[0,0] = 0.0\n",
        "    w_ref = np.linalg.solve(X.T @ X + 1.25 * I, X.T @ y)\n",
        "    assert np.allclose(w_ridge, w_ref, atol=1e-6)\n",
        "    print('Q4 passed.')\n"
      ],
      "id": "A1-NxDs51_n7"
    },
    {
      "cell_type": "markdown",
      "metadata": {
        "id": "rnLXmfY51_n7"
      },
      "source": [
        "---\n",
        "### Q5 (15 marks): MLE for Noise Variance and Negative Log-Likelihood\n",
        "Implement `mle_sigma2_and_nll(X, y, w)` returning `(sigma2_mle, nll)` under Gaussian likelihood."
      ],
      "id": "rnLXmfY51_n7"
    },
    {
      "cell_type": "code",
      "execution_count": 11,
      "metadata": {
        "id": "BzhLL4Og1_n7"
      },
      "outputs": [],
      "source": [
        "def mle_sigma2_and_nll(X, y, w):\n",
        "    \"\"\"Return (sigma2_mle, nll) under Gaussian likelihood.\n",
        "    \"\"\"\n",
        "    # TODO\n",
        "    n = X.shape[0]\n",
        "\n",
        "    # Residuals\n",
        "    residuals = y - X @ w\n",
        "\n",
        "    # MLE estimate of variance\n",
        "    sigma2_mle = np.sum(residuals**2) / n\n",
        "\n",
        "    # Negative log-likelihood\n",
        "    nll = (n / 2) * np.log(2 * np.pi * sigma2_mle) + (1 / (2 * sigma2_mle)) * np.sum(residuals**2)\n",
        "\n",
        "    return sigma2_mle, nll\n"
      ],
      "id": "BzhLL4Og1_n7"
    },
    {
      "cell_type": "code",
      "execution_count": 12,
      "metadata": {
        "id": "hmoo61YU1_n7",
        "outputId": "3553dd13-a98b-45a8-dec2-0fef2a9dc9cb",
        "colab": {
          "base_uri": "https://localhost:8080/"
        }
      },
      "outputs": [
        {
          "output_type": "stream",
          "name": "stdout",
          "text": [
            "Q5 passed.\n"
          ]
        }
      ],
      "source": [
        "# Tests for Q5\n",
        "try:\n",
        "    w_hat = ols_fit(X, y)\n",
        "    s2, nll = mle_sigma2_and_nll(X, y, w_hat)\n",
        "except NotImplementedError:\n",
        "    print('Q5 not implemented yet.')\n",
        "else:\n",
        "    assert s2 > 0 and np.isfinite(s2)\n",
        "    resid = y - X @ w_hat\n",
        "    s2_ref = np.mean(resid**2)\n",
        "    assert np.allclose(s2, s2_ref, rtol=1e-6)\n",
        "    assert np.isfinite(nll)\n",
        "    print('Q5 passed.')\n"
      ],
      "id": "hmoo61YU1_n7"
    },
    {
      "cell_type": "markdown",
      "metadata": {
        "id": "52yX3PoR1_n7"
      },
      "source": [
        "---\n",
        "### Q6 (15 marks): MAP with Gaussian Prior (Equivalence to Ridge)\n",
        "Implement `map_estimate(X, y, sigma2, tau2)` with no penalty on the intercept; check equivalence to ridge with `lambda = sigma2/tau2`."
      ],
      "id": "52yX3PoR1_n7"
    },
    {
      "cell_type": "code",
      "execution_count": 13,
      "metadata": {
        "id": "_wDDpOwf1_n7"
      },
      "outputs": [],
      "source": [
        "def map_estimate(X, y, sigma2, tau2):\n",
        "    \"\"\"Return MAP estimate under Gaussian prior with variance tau2 and noise sigma2.\n",
        "    \"\"\"\n",
        "    # TODO\n",
        "    n_features = X.shape[1]\n",
        "\n",
        "    # Equivalent ridge lambda\n",
        "    lam = sigma2 / tau2\n",
        "\n",
        "    # Identity matrix for regularization\n",
        "    I = np.eye(n_features)\n",
        "\n",
        "    # Do not penalize intercept\n",
        "    I[0, 0] = 0\n",
        "\n",
        "    # MAP closed-form solution\n",
        "    w_map = np.linalg.inv(X.T @ X + lam * I) @ X.T @ y\n",
        "\n",
        "    return w_map\n"
      ],
      "id": "_wDDpOwf1_n7"
    },
    {
      "cell_type": "code",
      "execution_count": 14,
      "metadata": {
        "id": "Fv8oiZgn1_n7",
        "outputId": "a6fd15b1-3546-4360-9fbd-a178950452f6",
        "colab": {
          "base_uri": "https://localhost:8080/"
        }
      },
      "outputs": [
        {
          "output_type": "stream",
          "name": "stdout",
          "text": [
            "Q6 passed.\n"
          ]
        }
      ],
      "source": [
        "# Tests for Q6\n",
        "try:\n",
        "    lam = 1.25\n",
        "    sigma2 = 0.5\n",
        "    tau2 = sigma2 / lam\n",
        "    w_map = map_estimate(X, y, sigma2=sigma2, tau2=tau2)\n",
        "except NotImplementedError:\n",
        "    print('Q6 not implemented yet.')\n",
        "else:\n",
        "    d = X.shape[1]\n",
        "    I = np.eye(d); I[0,0] = 0.0\n",
        "    w_ref = np.linalg.solve(X.T @ X + lam * I, X.T @ y)\n",
        "    assert np.allclose(w_map, w_ref, atol=1e-6)\n",
        "    print('Q6 passed.')\n"
      ],
      "id": "Fv8oiZgn1_n7"
    },
    {
      "cell_type": "markdown",
      "metadata": {
        "id": "xT0YiLs91_n7"
      },
      "source": [
        "---\n",
        "### Q7 (15 marks): Weighted Least Squares (Heteroscedastic Noise)\n",
        "Implement `wls_fit(X, y, weights)` solving $(X^T W X)^{-1} X^T W y$ with positive weights. Verify with `LinearRegression(..., sample_weight=weights)`."
      ],
      "id": "xT0YiLs91_n7"
    },
    {
      "cell_type": "code",
      "execution_count": 15,
      "metadata": {
        "id": "2th_7ac71_n7"
      },
      "outputs": [],
      "source": [
        "def wls_fit(X, y, weights):\n",
        "    \"\"\"Return Weighted Least Squares solution using (X^T W X)^{-1} X^T W y.\n",
        "    \"\"\"\n",
        "    # TODO\n",
        "    # raise NotImplementedError()\n",
        "    # Ensure weights are positive\n",
        "    assert np.all(weights > 0), \"All weights must be positive.\"\n",
        "\n",
        "    # Construct diagonal weight matrix\n",
        "    W = np.diag(weights)\n",
        "\n",
        "    # Closed-form WLS solution\n",
        "    w = np.linalg.inv(X.T @ W @ X) @ X.T @ W @ y\n",
        "\n",
        "    return w\n",
        "\n"
      ],
      "id": "2th_7ac71_n7"
    },
    {
      "cell_type": "code",
      "execution_count": 16,
      "metadata": {
        "id": "6msgiJ441_n7",
        "outputId": "9712efc1-6188-4070-dad8-7c4e8ea62bb4",
        "colab": {
          "base_uri": "https://localhost:8080/"
        }
      },
      "outputs": [
        {
          "output_type": "stream",
          "name": "stdout",
          "text": [
            "Q7 passed.\n"
          ]
        }
      ],
      "source": [
        "# Tests for Q7\n",
        "try:\n",
        "    rng = np.random.default_rng(123)\n",
        "    n2, d2 = 200, 5\n",
        "    Xh_raw = rng.normal(size=(n2, d2))\n",
        "    Xh = np.c_[np.ones((n2,1)), Xh_raw]\n",
        "    sigma_i = np.linspace(0.3, 1.5, n2)\n",
        "    eps = rng.normal(scale=sigma_i)\n",
        "    yh = Xh @ true_w + eps\n",
        "    weights = 1.0/(sigma_i**2)\n",
        "    w_wls = wls_fit(Xh, yh, weights)\n",
        "except NotImplementedError:\n",
        "    print('Q7 not implemented yet.')\n",
        "else:\n",
        "    lr = LinearRegression(fit_intercept=False)\n",
        "    lr.fit(Xh, yh, sample_weight=weights)\n",
        "    w_sk = lr.coef_\n",
        "    assert np.allclose(w_wls, w_sk, atol=1e-6)\n",
        "    print('Q7 passed.')\n"
      ],
      "id": "6msgiJ441_n7"
    },
    {
      "cell_type": "markdown",
      "metadata": {
        "id": "-pIqcaxV1_n7"
      },
      "source": [
        "---\n",
        "## Auto-scoring (local)\n",
        "Run to compute a provisional score out of 100."
      ],
      "id": "-pIqcaxV1_n7"
    },
    {
      "cell_type": "code",
      "execution_count": 18,
      "metadata": {
        "id": "ELlZGsr-1_n7",
        "outputId": "879d8979-0b23-445c-b055-7e93942f03c1",
        "colab": {
          "base_uri": "https://localhost:8080/"
        }
      },
      "outputs": [
        {
          "output_type": "stream",
          "name": "stdout",
          "text": [
            "Provisional score: 100 / 100\n"
          ]
        }
      ],
      "source": [
        "score = 0\n",
        "\n",
        "# Q1\n",
        "try:\n",
        "    mse_tr, mse_te = erm_split_mse(X, y, test_size=0.2, random_state=0)\n",
        "    assert isinstance(mse_tr, float) and isinstance(mse_te, float)\n",
        "    assert 0 <= mse_tr < 10 and 0 <= mse_te < 15\n",
        "    score += 10\n",
        "except Exception as e:\n",
        "    print('Q1 failed:', e)\n",
        "\n",
        "# Q2\n",
        "try:\n",
        "    tr_mse, te_mse, best_deg = poly_model_selection(X_raw, y, degrees=(1,2,3,4,5))\n",
        "    tr_mse = np.asarray(tr_mse); te_mse = np.asarray(te_mse)\n",
        "    assert tr_mse.shape == (5,) and te_mse.shape == (5,)\n",
        "    assert all(m > 0 for m in tr_mse) and all(m > 0 for m in te_mse)\n",
        "    assert best_deg in (1,2,3,4,5)\n",
        "    score += 15\n",
        "except Exception as e:\n",
        "    print('Q2 failed:', e)\n",
        "\n",
        "# Q3\n",
        "try:\n",
        "    w_hat = ols_fit(X, y)\n",
        "    lr = LinearRegression(fit_intercept=False).fit(X, y)\n",
        "    w_sk = lr.coef_\n",
        "    assert np.allclose(w_hat, w_sk, atol=1e-6)\n",
        "    score += 15\n",
        "except Exception as e:\n",
        "    print('Q3 failed:', e)\n",
        "\n",
        "# Q4\n",
        "try:\n",
        "    lam = 1.25\n",
        "    I = np.eye(X.shape[1]); I[0,0] = 0.0\n",
        "    w_ref = np.linalg.solve(X.T @ X + lam * I, X.T @ y)\n",
        "    w_ridge = ridge_fit(X, y, lam=lam)\n",
        "    assert np.allclose(w_ridge, w_ref, atol=1e-6)\n",
        "    score += 15\n",
        "except Exception as e:\n",
        "    print('Q4 failed:', e)\n",
        "\n",
        "# Q5\n",
        "try:\n",
        "    w_hat = ols_fit(X, y)\n",
        "    s2, nll = mle_sigma2_and_nll(X, y, w_hat)\n",
        "    resid = y - X @ w_hat\n",
        "    s2_ref = np.mean(resid**2)\n",
        "    assert np.allclose(s2, s2_ref, rtol=1e-6)\n",
        "    assert np.isfinite(nll)\n",
        "    score += 15\n",
        "except Exception as e:\n",
        "    print('Q5 failed:', e)\n",
        "\n",
        "# Q6\n",
        "try:\n",
        "    lam = 1.25\n",
        "    sigma2 = 0.5\n",
        "    tau2 = sigma2 / lam\n",
        "    w_map = map_estimate(X, y, sigma2=sigma2, tau2=tau2)\n",
        "    I = np.eye(X.shape[1]); I[0,0] = 0.0\n",
        "    w_ref = np.linalg.solve(X.T @ X + lam * I, X.T @ y)\n",
        "    assert np.allclose(w_map, w_ref, atol=1e-6)\n",
        "    score += 15\n",
        "except Exception as e:\n",
        "    print('Q6 failed:', e)\n",
        "\n",
        "# Q7\n",
        "try:\n",
        "    rng = np.random.default_rng(123)\n",
        "    n2, d2 = 200, X.shape[1]-1\n",
        "    Xh_raw = rng.normal(size=(n2, d2))\n",
        "    Xh = np.c_[np.ones((n2,1)), Xh_raw]\n",
        "    sigma_i = np.linspace(0.3, 1.5, n2)\n",
        "    eps = rng.normal(scale=sigma_i)\n",
        "    yh = Xh @ true_w + eps\n",
        "    weights = 1.0/(sigma_i**2)\n",
        "    w_wls = wls_fit(Xh, yh, weights)\n",
        "    lr = LinearRegression(fit_intercept=False)\n",
        "    lr.fit(Xh, yh, sample_weight=weights)\n",
        "    w_sk = lr.coef_\n",
        "    assert np.allclose(w_wls, w_sk, atol=1e-6)\n",
        "    score += 15\n",
        "except Exception as e:\n",
        "    print('Q7 failed:', e)\n",
        "\n",
        "print('Provisional score:', score, '/ 100')\n"
      ],
      "id": "ELlZGsr-1_n7"
    }
  ],
  "metadata": {
    "kernelspec": {
      "display_name": "base",
      "language": "python",
      "name": "python3"
    },
    "language_info": {
      "codemirror_mode": {
        "name": "ipython",
        "version": 3
      },
      "file_extension": ".py",
      "mimetype": "text/x-python",
      "name": "python",
      "nbconvert_exporter": "python",
      "pygments_lexer": "ipython3",
      "version": "3.13.5"
    },
    "colab": {
      "provenance": [],
      "include_colab_link": true
    }
  },
  "nbformat": 4,
  "nbformat_minor": 5
}